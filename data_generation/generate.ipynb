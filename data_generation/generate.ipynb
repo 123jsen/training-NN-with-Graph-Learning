{
 "cells": [
  {
   "cell_type": "code",
   "execution_count": null,
   "metadata": {},
   "outputs": [],
   "source": [
    "cd .."
   ]
  },
  {
   "cell_type": "code",
   "execution_count": null,
   "metadata": {},
   "outputs": [],
   "source": [
    "# Imports\n",
    "import os\n",
    "from model_generator import generate_model_data\n",
    "from dataset_generator import generate_classification_dataset\n",
    "\n",
    "\n",
    "# Constants\n",
    "from constants.constants import SAMPLES_PER_SET, MODELS_PER_SET"
   ]
  },
  {
   "cell_type": "code",
   "execution_count": null,
   "metadata": {},
   "outputs": [],
   "source": [
    "# Data parameters\n",
    "features = [3, 4, 6, 7, 4, 9, 8, 5, 4]\n",
    "\n",
    "informative = [3, 2, 5, 5, 4, 7, 5, 5, 3]\n",
    "\n",
    "redundant = [0, 2, 1, 2, 0, 2, 3, 0, 1]\n",
    "\n",
    "classes = [2, 2, 3, 3, 2, 4, 2, 3, 2]\n",
    "\n",
    "weights = [[0.33, 0.67],\n",
    "           [0.5, 0.5],\n",
    "           [0.35, 0.25, 0.4],\n",
    "           [0.1, 0.1, 0.8],\n",
    "           [0.4, 0.6],\n",
    "           [0.25, 0.25, 0.25, 0.25],\n",
    "           [0.63, 0.37],\n",
    "           [0.3, 0.3, 0.4],\n",
    "           [0.7, 0.3]]"
   ]
  },
  {
   "cell_type": "code",
   "execution_count": null,
   "metadata": {},
   "outputs": [],
   "source": [
    "for i in range(len(features)):\n",
    "        # Create folder if it doesnt exists\n",
    "        path = f\"./raw/dataset_{i}/\"\n",
    "        os.makedirs(path, exist_ok=True)\n",
    "\n",
    "        generate_classification_dataset(n_samples=SAMPLES_PER_SET,\n",
    "                                        n_features=features[i],\n",
    "                                        n_informative=informative[i],\n",
    "                                        n_redundant=redundant[i],\n",
    "                                        n_classes=classes[i],\n",
    "                                        weights=weights[i],\n",
    "                                        target_dir=path)\n",
    "\n",
    "        generate_model_data(num_models=MODELS_PER_SET,\n",
    "                            target_dir=path)"
   ]
  },
  {
   "cell_type": "code",
   "execution_count": null,
   "metadata": {},
   "outputs": [],
   "source": []
  }
 ],
 "metadata": {
  "kernelspec": {
   "display_name": "Python 3.10.4 64-bit",
   "language": "python",
   "name": "python3"
  },
  "language_info": {
   "codemirror_mode": {
    "name": "ipython",
    "version": 3
   },
   "file_extension": ".py",
   "mimetype": "text/x-python",
   "name": "python",
   "nbconvert_exporter": "python",
   "pygments_lexer": "ipython3",
   "version": "3.10.4"
  },
  "orig_nbformat": 4,
  "vscode": {
   "interpreter": {
    "hash": "369f2c481f4da34e4445cda3fffd2e751bd1c4d706f27375911949ba6bb62e1c"
   }
  }
 },
 "nbformat": 4,
 "nbformat_minor": 2
}

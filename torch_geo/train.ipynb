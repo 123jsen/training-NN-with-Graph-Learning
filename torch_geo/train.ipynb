{
 "cells": [
  {
   "cell_type": "code",
   "execution_count": 1,
   "metadata": {},
   "outputs": [
    {
     "name": "stderr",
     "output_type": "stream",
     "text": [
      "c:\\Python310\\lib\\site-packages\\tqdm\\auto.py:22: TqdmWarning: IProgress not found. Please update jupyter and ipywidgets. See https://ipywidgets.readthedocs.io/en/stable/user_install.html\n",
      "  from .autonotebook import tqdm as notebook_tqdm\n"
     ]
    }
   ],
   "source": [
    "# Downloaded libraries\n",
    "import torch\n",
    "from torch import nn\n",
    "from torch_geometric.loader import DataLoader\n",
    "\n",
    "\n",
    "# Local files\n",
    "from dataset_graphs import NNDataset\n",
    "from models import Trainer_GCN"
   ]
  },
  {
   "cell_type": "code",
   "execution_count": 2,
   "metadata": {},
   "outputs": [],
   "source": [
    "# Constants\n",
    "TRAINING_SPLIT = 0.8"
   ]
  },
  {
   "cell_type": "code",
   "execution_count": 3,
   "metadata": {},
   "outputs": [],
   "source": [
    "# Hyperparameters\n",
    "num_epoch = 100\n",
    "batch_size = 16"
   ]
  },
  {
   "cell_type": "code",
   "execution_count": 4,
   "metadata": {},
   "outputs": [],
   "source": [
    "device = torch.device('cuda' if torch.cuda.is_available() else 'cpu')"
   ]
  },
  {
   "cell_type": "code",
   "execution_count": 5,
   "metadata": {},
   "outputs": [
    {
     "name": "stderr",
     "output_type": "stream",
     "text": [
      "Processing...\n"
     ]
    },
    {
     "name": "stdout",
     "output_type": "stream",
     "text": [
      "Graph is Undirected\n",
      "Reading from ..\\raw\\dataset_0/, 200 models loaded\n",
      "Reading from ..\\raw\\dataset_1/, 200 models loaded\n",
      "Reading from ..\\raw\\dataset_2/, 200 models loaded\n",
      "Reading from ..\\raw\\dataset_3/, 200 models loaded\n",
      "Reading from ..\\raw\\dataset_4/, 200 models loaded\n",
      "Reading from ..\\raw\\dataset_5/, 200 models loaded\n",
      "Dataset loaded, 960 training samples and 240 testing samples\n"
     ]
    },
    {
     "name": "stderr",
     "output_type": "stream",
     "text": [
      "Done!\n"
     ]
    }
   ],
   "source": [
    "nndataset = NNDataset(root=\"../\")\n",
    "\n",
    "size = len(nndataset)\n",
    "train_num = int(size * TRAINING_SPLIT)\n",
    "test_num = size - train_num\n",
    "\n",
    "print(\n",
    "    f\"Dataset loaded, {train_num} training samples and {test_num} testing samples\")"
   ]
  },
  {
   "cell_type": "code",
   "execution_count": 16,
   "metadata": {},
   "outputs": [
    {
     "name": "stdout",
     "output_type": "stream",
     "text": [
      "Data(design=[6], edge_index=[2, 12864], x=[245, 503], y_node=[245, 1], y_edge=[6432, 1], input_mask=[245, 1], num_nodes=245)\n",
      "[3, 32, 96, 16, 96, 2]\n"
     ]
    }
   ],
   "source": [
    "data = nndataset[0]\n",
    "print(data)\n",
    "print(data.design)"
   ]
  },
  {
   "cell_type": "code",
   "execution_count": 26,
   "metadata": {},
   "outputs": [
    {
     "data": {
      "text/plain": [
       "tensor([ 0.0000e+00,  0.0000e+00,  0.0000e+00,  5.0067e-01,  1.9384e-02,\n",
       "         1.7750e-01, -4.6171e-01,  1.8293e-01, -2.4638e-01,  2.0000e-01,\n",
       "         2.7218e-01,  3.0054e-01, -4.3329e-02,  2.6026e-01, -2.1197e-01,\n",
       "         5.1550e-01,  2.8103e-01,  8.2824e-02,  2.6926e-01, -5.4662e-01,\n",
       "         1.5758e-02, -5.5833e-01,  4.3861e-01,  1.8996e-01, -1.2367e-02,\n",
       "         5.2220e-01, -2.1556e-01,  3.3489e-01,  7.0793e-03,  3.8506e-01,\n",
       "        -4.3606e-01, -1.7828e-01, -2.0559e-01, -2.0938e-01, -2.3085e-01,\n",
       "        -4.6774e-02,  1.5593e-01,  1.0852e-01, -1.0469e-01,  1.0978e-02,\n",
       "        -2.9960e-02,  8.2496e-02, -1.3926e-02,  1.6312e-01, -1.5006e-01,\n",
       "         4.0887e-02, -5.9743e-02, -7.2410e-03, -9.6327e-02,  1.2866e-01,\n",
       "        -1.2609e-01, -1.5544e-01, -1.4454e-01, -1.5013e-01, -9.5906e-02,\n",
       "        -1.2031e-01,  1.5928e-01, -8.3122e-02,  8.7837e-02, -7.7914e-02,\n",
       "         1.4335e-01, -9.6918e-02,  1.4331e-01, -7.9432e-02, -1.5437e-02,\n",
       "         1.1228e-01,  2.4273e-02, -9.8379e-02,  6.9200e-02, -1.1637e-01,\n",
       "        -1.1062e-01, -9.9409e-02,  1.4807e-01, -1.0066e-02, -9.7662e-02,\n",
       "        -1.1055e-01, -2.2051e-02,  9.0607e-02, -1.3745e-01, -9.5813e-02,\n",
       "         9.3473e-02, -1.3554e-01, -1.2856e-01, -3.7928e-02,  1.0588e-01,\n",
       "         5.7493e-02,  5.3989e-02, -9.4074e-03, -9.2870e-02, -1.4396e-01,\n",
       "         5.7144e-02,  1.3798e-01, -1.2799e-01, -3.7394e-02, -1.7094e-01,\n",
       "         1.3849e-01,  5.2021e-04, -1.1733e-01,  1.6448e-01, -7.5656e-02,\n",
       "         4.5142e-02,  7.5496e-02, -1.3441e-01,  1.7476e-01, -1.2915e-01,\n",
       "         1.1636e-01,  1.4666e-01,  1.2154e-01,  4.2237e-02,  1.8549e-03,\n",
       "         6.3651e-02, -8.4548e-02, -4.3906e-02, -1.6101e-01, -1.4519e-01,\n",
       "         1.4962e-01,  1.0734e-02,  1.2160e-01, -1.4871e-01, -1.5775e-01,\n",
       "         9.9450e-02, -9.9501e-02,  1.1103e-02, -1.2248e-01, -1.4983e-01,\n",
       "        -4.7515e-02, -7.7963e-02, -1.7250e-01,  1.7326e-01,  1.4488e-01,\n",
       "        -1.0631e-01, -5.3445e-02,  9.0376e-04,  2.0446e-02,  7.3538e-02,\n",
       "         8.8942e-02,  5.9854e-02, -4.8408e-02,  1.4649e-02,  8.2152e-02,\n",
       "         6.3520e-02,  9.5187e-02,  5.7585e-02,  6.2057e-02,  2.1671e-02,\n",
       "         2.9018e-02,  4.6620e-02,  3.3505e-02, -1.2116e-01, -1.1699e-01,\n",
       "        -9.6372e-02, -1.9893e-01, -2.1653e-01,  7.8628e-02,  5.3783e-02,\n",
       "        -2.0511e-01, -2.3816e-02, -1.0914e-01,  1.2077e-01, -2.0679e-01,\n",
       "         2.3834e-01,  1.2255e-01,  1.3258e-02, -1.4583e-01,  1.6215e-01,\n",
       "         8.3939e-02,  1.0831e-01, -1.4086e-01, -2.1350e-01, -3.2457e-02,\n",
       "         2.4977e-01, -1.4109e-02, -2.0241e-01,  1.7654e-01, -2.9997e-02,\n",
       "         1.8072e-01, -1.1344e-01,  1.9200e-02,  1.0406e-01, -2.3498e-01,\n",
       "        -3.2921e-02,  2.2204e-02, -2.0721e-01,  5.3252e-02,  1.7298e-01,\n",
       "         1.0103e-01, -4.7932e-02,  2.0726e-01, -7.8371e-02,  1.1537e-01,\n",
       "        -1.1894e-01, -8.7202e-02, -4.3317e-02, -1.1278e-01,  4.0298e-02,\n",
       "         1.4226e-02,  2.4580e-01, -5.4327e-02,  1.8236e-01, -2.0009e-01,\n",
       "        -2.0689e-01, -1.6477e-01,  1.8303e-01,  1.8397e-01,  8.3684e-02,\n",
       "        -7.8197e-02, -1.5543e-01, -2.3448e-01,  1.0796e-01, -1.5989e-01,\n",
       "         4.4420e-02,  2.2049e-01, -1.7625e-01,  1.1981e-01, -1.3485e-02,\n",
       "        -1.5585e-01, -1.6811e-01, -1.8371e-01,  1.4137e-01,  1.7806e-01,\n",
       "        -2.4878e-01,  1.7742e-01,  1.2130e-01,  3.0027e-03, -1.6969e-01,\n",
       "         5.8613e-02, -5.0042e-02,  2.4394e-01, -1.5623e-01, -1.0584e-01,\n",
       "        -2.3900e-01,  1.8320e-01, -2.1233e-01, -1.3715e-01, -9.7394e-03,\n",
       "        -3.1378e-02, -2.3659e-01, -2.0155e-01,  1.6755e-01,  1.3168e-01,\n",
       "        -1.9045e-01, -4.7991e-02,  2.1636e-01,  3.0532e-02, -3.3190e-02])"
      ]
     },
     "execution_count": 26,
     "metadata": {},
     "output_type": "execute_result"
    }
   ],
   "source": [
    "data.x[:,502]"
   ]
  },
  {
   "cell_type": "code",
   "execution_count": 8,
   "metadata": {},
   "outputs": [],
   "source": [
    "train_loader = DataLoader(\n",
    "    dataset=nndataset[:train_num], batch_size=batch_size, shuffle=True)\n",
    "test_loader = DataLoader(\n",
    "    dataset=nndataset[train_num:], batch_size=test_num, shuffle=True)"
   ]
  },
  {
   "cell_type": "code",
   "execution_count": 9,
   "metadata": {},
   "outputs": [],
   "source": [
    "model = Trainer_GCN().to(device)\n",
    "optimizer = torch.optim.Adam(model.parameters(), lr=0.01, weight_decay=5e-4)\n",
    "loss_fn = nn.MSELoss()"
   ]
  },
  {
   "cell_type": "code",
   "execution_count": 10,
   "metadata": {},
   "outputs": [
    {
     "name": "stdout",
     "output_type": "stream",
     "text": [
      "Epoch 1 / 100:\n"
     ]
    },
    {
     "ename": "RuntimeError",
     "evalue": "mat1 and mat2 shapes cannot be multiplied (2063x503 and 504x256)",
     "output_type": "error",
     "traceback": [
      "\u001b[1;31m---------------------------------------------------------------------------\u001b[0m",
      "\u001b[1;31mRuntimeError\u001b[0m                              Traceback (most recent call last)",
      "\u001b[1;32md:\\GitHub-Projects\\training-NN-with-Graph-Learning\\torch_geo\\train.ipynb Cell 10'\u001b[0m in \u001b[0;36m<cell line: 3>\u001b[1;34m()\u001b[0m\n\u001b[0;32m      <a href='vscode-notebook-cell:/d%3A/GitHub-Projects/training-NN-with-Graph-Learning/torch_geo/train.ipynb#ch0000007?line=5'>6</a>\u001b[0m data\u001b[39m.\u001b[39mto(device)\n\u001b[0;32m      <a href='vscode-notebook-cell:/d%3A/GitHub-Projects/training-NN-with-Graph-Learning/torch_geo/train.ipynb#ch0000007?line=7'>8</a>\u001b[0m \u001b[39m# forward propagation\u001b[39;00m\n\u001b[1;32m----> <a href='vscode-notebook-cell:/d%3A/GitHub-Projects/training-NN-with-Graph-Learning/torch_geo/train.ipynb#ch0000007?line=8'>9</a>\u001b[0m out_w, out_b \u001b[39m=\u001b[39m model(data)\n\u001b[0;32m     <a href='vscode-notebook-cell:/d%3A/GitHub-Projects/training-NN-with-Graph-Learning/torch_geo/train.ipynb#ch0000007?line=9'>10</a>\u001b[0m loss \u001b[39m=\u001b[39m loss_fn(out_b, data\u001b[39m.\u001b[39my_node) \u001b[39m+\u001b[39m loss_fn(out_w, data\u001b[39m.\u001b[39my_edge)\n\u001b[0;32m     <a href='vscode-notebook-cell:/d%3A/GitHub-Projects/training-NN-with-Graph-Learning/torch_geo/train.ipynb#ch0000007?line=11'>12</a>\u001b[0m \u001b[39m# backpropagation\u001b[39;00m\n",
      "File \u001b[1;32mc:\\Python310\\lib\\site-packages\\torch\\nn\\modules\\module.py:1110\u001b[0m, in \u001b[0;36mModule._call_impl\u001b[1;34m(self, *input, **kwargs)\u001b[0m\n\u001b[0;32m   1106\u001b[0m \u001b[39m# If we don't have any hooks, we want to skip the rest of the logic in\u001b[39;00m\n\u001b[0;32m   1107\u001b[0m \u001b[39m# this function, and just call forward.\u001b[39;00m\n\u001b[0;32m   1108\u001b[0m \u001b[39mif\u001b[39;00m \u001b[39mnot\u001b[39;00m (\u001b[39mself\u001b[39m\u001b[39m.\u001b[39m_backward_hooks \u001b[39mor\u001b[39;00m \u001b[39mself\u001b[39m\u001b[39m.\u001b[39m_forward_hooks \u001b[39mor\u001b[39;00m \u001b[39mself\u001b[39m\u001b[39m.\u001b[39m_forward_pre_hooks \u001b[39mor\u001b[39;00m _global_backward_hooks\n\u001b[0;32m   1109\u001b[0m         \u001b[39mor\u001b[39;00m _global_forward_hooks \u001b[39mor\u001b[39;00m _global_forward_pre_hooks):\n\u001b[1;32m-> 1110\u001b[0m     \u001b[39mreturn\u001b[39;00m forward_call(\u001b[39m*\u001b[39m\u001b[39minput\u001b[39m, \u001b[39m*\u001b[39m\u001b[39m*\u001b[39mkwargs)\n\u001b[0;32m   1111\u001b[0m \u001b[39m# Do not call functions when jit is used\u001b[39;00m\n\u001b[0;32m   1112\u001b[0m full_backward_hooks, non_full_backward_hooks \u001b[39m=\u001b[39m [], []\n",
      "File \u001b[1;32md:\\GitHub-Projects\\training-NN-with-Graph-Learning\\torch_geo\\models.py:19\u001b[0m, in \u001b[0;36mTrainer_GCN.forward\u001b[1;34m(self, data)\u001b[0m\n\u001b[0;32m     16\u001b[0m \u001b[39mdef\u001b[39;00m \u001b[39mforward\u001b[39m(\u001b[39mself\u001b[39m, data):\n\u001b[0;32m     17\u001b[0m     x, edge_index \u001b[39m=\u001b[39m data\u001b[39m.\u001b[39mx, data\u001b[39m.\u001b[39medge_index\n\u001b[1;32m---> 19\u001b[0m     x \u001b[39m=\u001b[39m \u001b[39mself\u001b[39;49m\u001b[39m.\u001b[39;49mconv1(x, edge_index)\n\u001b[0;32m     20\u001b[0m     x \u001b[39m=\u001b[39m F\u001b[39m.\u001b[39mrelu(x)\n\u001b[0;32m     21\u001b[0m     x \u001b[39m=\u001b[39m F\u001b[39m.\u001b[39mdropout(x, training\u001b[39m=\u001b[39m\u001b[39mself\u001b[39m\u001b[39m.\u001b[39mtraining)\n",
      "File \u001b[1;32mc:\\Python310\\lib\\site-packages\\torch\\nn\\modules\\module.py:1110\u001b[0m, in \u001b[0;36mModule._call_impl\u001b[1;34m(self, *input, **kwargs)\u001b[0m\n\u001b[0;32m   1106\u001b[0m \u001b[39m# If we don't have any hooks, we want to skip the rest of the logic in\u001b[39;00m\n\u001b[0;32m   1107\u001b[0m \u001b[39m# this function, and just call forward.\u001b[39;00m\n\u001b[0;32m   1108\u001b[0m \u001b[39mif\u001b[39;00m \u001b[39mnot\u001b[39;00m (\u001b[39mself\u001b[39m\u001b[39m.\u001b[39m_backward_hooks \u001b[39mor\u001b[39;00m \u001b[39mself\u001b[39m\u001b[39m.\u001b[39m_forward_hooks \u001b[39mor\u001b[39;00m \u001b[39mself\u001b[39m\u001b[39m.\u001b[39m_forward_pre_hooks \u001b[39mor\u001b[39;00m _global_backward_hooks\n\u001b[0;32m   1109\u001b[0m         \u001b[39mor\u001b[39;00m _global_forward_hooks \u001b[39mor\u001b[39;00m _global_forward_pre_hooks):\n\u001b[1;32m-> 1110\u001b[0m     \u001b[39mreturn\u001b[39;00m forward_call(\u001b[39m*\u001b[39m\u001b[39minput\u001b[39m, \u001b[39m*\u001b[39m\u001b[39m*\u001b[39mkwargs)\n\u001b[0;32m   1111\u001b[0m \u001b[39m# Do not call functions when jit is used\u001b[39;00m\n\u001b[0;32m   1112\u001b[0m full_backward_hooks, non_full_backward_hooks \u001b[39m=\u001b[39m [], []\n",
      "File \u001b[1;32mc:\\Python310\\lib\\site-packages\\torch_geometric\\nn\\conv\\gcn_conv.py:191\u001b[0m, in \u001b[0;36mGCNConv.forward\u001b[1;34m(self, x, edge_index, edge_weight)\u001b[0m\n\u001b[0;32m    188\u001b[0m         \u001b[39melse\u001b[39;00m:\n\u001b[0;32m    189\u001b[0m             edge_index \u001b[39m=\u001b[39m cache\n\u001b[1;32m--> 191\u001b[0m x \u001b[39m=\u001b[39m \u001b[39mself\u001b[39;49m\u001b[39m.\u001b[39;49mlin(x)\n\u001b[0;32m    193\u001b[0m \u001b[39m# propagate_type: (x: Tensor, edge_weight: OptTensor)\u001b[39;00m\n\u001b[0;32m    194\u001b[0m out \u001b[39m=\u001b[39m \u001b[39mself\u001b[39m\u001b[39m.\u001b[39mpropagate(edge_index, x\u001b[39m=\u001b[39mx, edge_weight\u001b[39m=\u001b[39medge_weight,\n\u001b[0;32m    195\u001b[0m                      size\u001b[39m=\u001b[39m\u001b[39mNone\u001b[39;00m)\n",
      "File \u001b[1;32mc:\\Python310\\lib\\site-packages\\torch\\nn\\modules\\module.py:1110\u001b[0m, in \u001b[0;36mModule._call_impl\u001b[1;34m(self, *input, **kwargs)\u001b[0m\n\u001b[0;32m   1106\u001b[0m \u001b[39m# If we don't have any hooks, we want to skip the rest of the logic in\u001b[39;00m\n\u001b[0;32m   1107\u001b[0m \u001b[39m# this function, and just call forward.\u001b[39;00m\n\u001b[0;32m   1108\u001b[0m \u001b[39mif\u001b[39;00m \u001b[39mnot\u001b[39;00m (\u001b[39mself\u001b[39m\u001b[39m.\u001b[39m_backward_hooks \u001b[39mor\u001b[39;00m \u001b[39mself\u001b[39m\u001b[39m.\u001b[39m_forward_hooks \u001b[39mor\u001b[39;00m \u001b[39mself\u001b[39m\u001b[39m.\u001b[39m_forward_pre_hooks \u001b[39mor\u001b[39;00m _global_backward_hooks\n\u001b[0;32m   1109\u001b[0m         \u001b[39mor\u001b[39;00m _global_forward_hooks \u001b[39mor\u001b[39;00m _global_forward_pre_hooks):\n\u001b[1;32m-> 1110\u001b[0m     \u001b[39mreturn\u001b[39;00m forward_call(\u001b[39m*\u001b[39m\u001b[39minput\u001b[39m, \u001b[39m*\u001b[39m\u001b[39m*\u001b[39mkwargs)\n\u001b[0;32m   1111\u001b[0m \u001b[39m# Do not call functions when jit is used\u001b[39;00m\n\u001b[0;32m   1112\u001b[0m full_backward_hooks, non_full_backward_hooks \u001b[39m=\u001b[39m [], []\n",
      "File \u001b[1;32mc:\\Python310\\lib\\site-packages\\torch_geometric\\nn\\dense\\linear.py:118\u001b[0m, in \u001b[0;36mLinear.forward\u001b[1;34m(self, x)\u001b[0m\n\u001b[0;32m    113\u001b[0m \u001b[39mdef\u001b[39;00m \u001b[39mforward\u001b[39m(\u001b[39mself\u001b[39m, x: Tensor) \u001b[39m-\u001b[39m\u001b[39m>\u001b[39m Tensor:\n\u001b[0;32m    114\u001b[0m     \u001b[39mr\u001b[39m\u001b[39m\"\"\"\u001b[39;00m\n\u001b[0;32m    115\u001b[0m \u001b[39m    Args:\u001b[39;00m\n\u001b[0;32m    116\u001b[0m \u001b[39m        x (Tensor): The features.\u001b[39;00m\n\u001b[0;32m    117\u001b[0m \u001b[39m    \"\"\"\u001b[39;00m\n\u001b[1;32m--> 118\u001b[0m     \u001b[39mreturn\u001b[39;00m F\u001b[39m.\u001b[39;49mlinear(x, \u001b[39mself\u001b[39;49m\u001b[39m.\u001b[39;49mweight, \u001b[39mself\u001b[39;49m\u001b[39m.\u001b[39;49mbias)\n",
      "\u001b[1;31mRuntimeError\u001b[0m: mat1 and mat2 shapes cannot be multiplied (2063x503 and 504x256)"
     ]
    }
   ],
   "source": [
    "# Model Training\n",
    "model.train()\n",
    "for epoch in range(num_epoch):\n",
    "    print(f\"Epoch {epoch + 1} / {num_epoch}:\")\n",
    "    for i, data in enumerate(train_loader):\n",
    "        data.to(device)\n",
    "\n",
    "        # forward propagation\n",
    "        out_w, out_b = model(data)\n",
    "        loss = loss_fn(out_b, data.y_node) + loss_fn(out_w, data.y_edge)\n",
    "\n",
    "        # backpropagation\n",
    "        optimizer.zero_grad()\n",
    "        loss.backward()\n",
    "        optimizer.step()\n",
    "\n",
    "        # Print status every n batches\n",
    "        if i % 10 == 0:\n",
    "            loss, current = loss.item(), i * batch_size\n",
    "            print(\n",
    "                f\"Training Loss: {loss:>7f}  [{current:>5d}/{train_num:>5d}]\")"
   ]
  },
  {
   "cell_type": "code",
   "execution_count": null,
   "metadata": {},
   "outputs": [],
   "source": [
    "# Model Evaluation\n",
    "model.eval()\n",
    "with torch.no_grad():\n",
    "    data = iter(test_loader).next().to(device)\n",
    "\n",
    "    # forward propagation\n",
    "    out_w, out_b = model(data)\n",
    "    loss = loss_fn(out_b, data.y_node) + loss_fn(out_w, data.y_edge)\n",
    "\n",
    "    loss = loss.item()\n",
    "    print(f\"Validation Loss: {loss:>7f}\")\n"
   ]
  },
  {
   "cell_type": "code",
   "execution_count": null,
   "metadata": {},
   "outputs": [],
   "source": [
    "data = nndataset[0]\n",
    "data = data.to(device)"
   ]
  },
  {
   "cell_type": "code",
   "execution_count": null,
   "metadata": {},
   "outputs": [],
   "source": [
    "out_w, out_b = model(data)"
   ]
  },
  {
   "cell_type": "code",
   "execution_count": null,
   "metadata": {},
   "outputs": [],
   "source": [
    "torch.save(model.state_dict(), \"../model/model\")\n",
    "print(\"Model saved\")"
   ]
  }
 ],
 "metadata": {
  "kernelspec": {
   "display_name": "Python 3.10.4 64-bit",
   "language": "python",
   "name": "python3"
  },
  "language_info": {
   "codemirror_mode": {
    "name": "ipython",
    "version": 3
   },
   "file_extension": ".py",
   "mimetype": "text/x-python",
   "name": "python",
   "nbconvert_exporter": "python",
   "pygments_lexer": "ipython3",
   "version": "3.10.4"
  },
  "orig_nbformat": 4,
  "vscode": {
   "interpreter": {
    "hash": "369f2c481f4da34e4445cda3fffd2e751bd1c4d706f27375911949ba6bb62e1c"
   }
  }
 },
 "nbformat": 4,
 "nbformat_minor": 2
}
